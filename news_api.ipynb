{
  "nbformat": 4,
  "nbformat_minor": 0,
  "metadata": {
    "colab": {
      "provenance": []
    },
    "kernelspec": {
      "name": "python3",
      "display_name": "Python 3"
    },
    "language_info": {
      "name": "python"
    }
  },
  "cells": [
    {
      "cell_type": "code",
      "execution_count": 2,
      "metadata": {
        "colab": {
          "base_uri": "https://localhost:8080/"
        },
        "id": "LxRN-51RDXVe",
        "outputId": "68c411a3-1613-4ae8-e0a7-7cc0e8d2a804"
      },
      "outputs": [
        {
          "output_type": "stream",
          "name": "stdout",
          "text": [
            "Looking in indexes: https://pypi.org/simple, https://us-python.pkg.dev/colab-wheels/public/simple/\n",
            "Collecting newsapi-python\n",
            "  Downloading newsapi_python-0.2.6-py2.py3-none-any.whl (7.9 kB)\n",
            "Requirement already satisfied: requests<3.0.0 in /usr/local/lib/python3.7/dist-packages (from newsapi-python) (2.23.0)\n",
            "Requirement already satisfied: urllib3!=1.25.0,!=1.25.1,<1.26,>=1.21.1 in /usr/local/lib/python3.7/dist-packages (from requests<3.0.0->newsapi-python) (1.24.3)\n",
            "Requirement already satisfied: certifi>=2017.4.17 in /usr/local/lib/python3.7/dist-packages (from requests<3.0.0->newsapi-python) (2022.9.24)\n",
            "Requirement already satisfied: idna<3,>=2.5 in /usr/local/lib/python3.7/dist-packages (from requests<3.0.0->newsapi-python) (2.10)\n",
            "Requirement already satisfied: chardet<4,>=3.0.2 in /usr/local/lib/python3.7/dist-packages (from requests<3.0.0->newsapi-python) (3.0.4)\n",
            "Installing collected packages: newsapi-python\n",
            "Successfully installed newsapi-python-0.2.6\n"
          ]
        }
      ],
      "source": [
        "! pip install newsapi-python"
      ]
    },
    {
      "cell_type": "code",
      "source": [
        "from newsapi import NewsApiClient"
      ],
      "metadata": {
        "id": "IAX7usr1DakS"
      },
      "execution_count": 3,
      "outputs": []
    },
    {
      "cell_type": "code",
      "source": [
        "interests = [\"Football\", \"Crypto\", \"Agriculture\"]"
      ],
      "metadata": {
        "id": "_UkIgZ3SNh30"
      },
      "execution_count": 12,
      "outputs": []
    },
    {
      "cell_type": "code",
      "source": [
        "newsapi = NewsApiClient(api_key='3add96d35d3a40fe9c6a7450d538a35d')\n",
        "titles = []\n",
        "source = []\n",
        "descr = []\n",
        "url = []\n",
        "for i in interests:\n",
        "  top_headlines = newsapi.get_top_headlines(q=i, language='en')\n",
        "  articles = top_headlines['articles']\n",
        "  if(len(articles) != 0):\n",
        "    titles.append(articles[0]['title'])\n",
        "    descr.append(articles[0]['description'])\n",
        "    source.append(articles[0][\"source\"][\"name\"])\n",
        "    url.append(articles[0][\"url\"])\n",
        "  else:\n",
        "    titles.append(\"No articles found for today!\")\n",
        "    descr.append(\"N/A\")\n",
        "    source.append(\"N/A\")\n",
        "    url.append(\"N/A\")\n",
        "print(top_headlines['articles'])"
      ],
      "metadata": {
        "colab": {
          "base_uri": "https://localhost:8080/"
        },
        "id": "brqDshozDfDq",
        "outputId": "7581ff43-cc2a-4e9f-ab76-6fa10a148022"
      },
      "execution_count": 13,
      "outputs": [
        {
          "output_type": "stream",
          "name": "stdout",
          "text": [
            "[{'source': {'id': None, 'name': 'The Manila Times'}, 'author': 'Vince Jacob Visaya', 'title': 'Agri, infra damage in Cagayan hits P39.25M - The Manila Times', 'description': \"TUGUEGARAO CITY: Typhoon 'Paeng's' damage to agriculture and infrastructure has reached P39.25 million, initial disaster risk reduction management reports said on Friday.The...\", 'url': 'https://www.manilatimes.net/2022/11/06/news/regions/agri-infra-damage-incagayan-hits-p3925m/1865174', 'urlToImage': 'https://www.manilatimes.net/manilatimes/uploads/images/2022/11/05/123827.JPG', 'publishedAt': '2022-11-05T13:52:10Z', 'content': 'TUGUEGARAO CITY: Typhoon \"Paeng\\'s\" damage to agriculture and infrastructure has reached P39.25 million, initial disaster risk reduction management reports said on Friday.\\r\\nThe Provincial Disaster Ris… [+1035 chars]'}, {'source': {'id': None, 'name': 'EurekAlert'}, 'author': None, 'title': 'Fluoride use was consequence of flawed nutritional guidelines, researcher says - EurekAlert', 'description': 'Prominent organizations including the World Health Organization and U.S. Department of Agriculture (USDA) have dismissed low-carbohydrate diets that prevent tooth decay in favor of recommending high-carbohydrate diets which rely on fluoride and food fortifica…', 'url': 'https://www.eurekalert.org/news-releases/970351', 'urlToImage': 'https://earimediaprodweb.azurewebsites.net/Api/v1/Multimedia/a1a2cd0f-dd41-4b4b-9b0e-a973f7aee030/Rendition/thumbnail/Content/Public', 'publishedAt': '2022-11-04T22:08:14Z', 'content': 'image:\\xa0Dr. Philippe Hujoelview more\\xa0\\r\\nCredit: University of Washington\\r\\nProminent organizations including the World Health Organization and U.S. Department of Agriculture (USDA) have dismissed low-ca… [+3269 chars]'}]\n"
          ]
        }
      ]
    },
    {
      "cell_type": "code",
      "source": [
        "articles = top_headlines['articles']"
      ],
      "metadata": {
        "id": "fvXlYgXHMVvb"
      },
      "execution_count": 6,
      "outputs": []
    },
    {
      "cell_type": "code",
      "source": [
        "print(articles[0][\"url\"])"
      ],
      "metadata": {
        "colab": {
          "base_uri": "https://localhost:8080/"
        },
        "id": "MfJ2HGnMMz60",
        "outputId": "da26cde6-efde-4bf6-e1d9-e864e15ed26b"
      },
      "execution_count": 7,
      "outputs": [
        {
          "output_type": "stream",
          "name": "stdout",
          "text": [
            "https://developers.google.com/search/docs/appearance/structured-data\n"
          ]
        }
      ]
    },
    {
      "cell_type": "code",
      "source": [
        "print(titles)"
      ],
      "metadata": {
        "colab": {
          "base_uri": "https://localhost:8080/"
        },
        "id": "vLftSxIgM1iq",
        "outputId": "de81b992-1a65-4987-d05b-d441a236c133"
      },
      "execution_count": 8,
      "outputs": [
        {
          "output_type": "stream",
          "name": "stdout",
          "text": [
            "['Georgia vs. Tennessee score, takeaways: No. 3 Dawgs suffocate No. 1 Vols offense in dominant rivalry win - CBS Sports', 'South African solar power company pays investors in crypto - News24', 'Conmoción en Antioquia por asesinato de joven tras salir de su colegio - El Tiempo']\n"
          ]
        }
      ]
    },
    {
      "cell_type": "code",
      "source": [
        "print(descr)"
      ],
      "metadata": {
        "colab": {
          "base_uri": "https://localhost:8080/"
        },
        "id": "lxTRjJe_OtB0",
        "outputId": "5fc43025-efc7-482e-c69b-61798d048cb6"
      },
      "execution_count": null,
      "outputs": [
        {
          "output_type": "stream",
          "name": "stdout",
          "text": [
            "['A closer look at the top games for the 10th week of the 2022 college football season', '', \"Google wants to develop artificial intelligence using the world's one thousand most spoken languages and mine data in new languages not only from texts available on the internet, but also from videos, images and speech.\"]\n"
          ]
        }
      ]
    },
    {
      "cell_type": "code",
      "source": [
        "text = f\"Your top news articles for today: \\n\\n\"\n",
        "for i in range(len(titles)):\n",
        "  text = text + f\"{titles[i]}\\n{descr[i]}\\nLink: {url[i]}\\n\\n\"\n",
        "\n",
        "print(text)"
      ],
      "metadata": {
        "colab": {
          "base_uri": "https://localhost:8080/"
        },
        "id": "3TBiJ8C8PFxd",
        "outputId": "347fde89-0bcb-4e5d-e754-6da7badcf706"
      },
      "execution_count": 14,
      "outputs": [
        {
          "output_type": "stream",
          "name": "stdout",
          "text": [
            "Your top news articles for today: \n",
            "\n",
            "Georgia vs. Tennessee score, takeaways: No. 3 Dawgs suffocate No. 1 Vols offense in dominant rivalry win - CBS Sports\n",
            "Georgia got a leg up in the SEC East race and College Football Playoff chase by handing Tennessee its first loss of the season\n",
            "Link: https://www.cbssports.com/college-football/news/georgia-vs-tennessee-score-takeaways-no-3-dawgs-suffocate-no-1-vols-offense-in-dominant-rivalry-win/live/\n",
            "\n",
            "South African solar power company pays investors in crypto - News24\n",
            "Sun Exchange invites investors to buy solar cells, and the customers who receive the renewable energy pay a fee over a 20-year contract, but the cost is below what would have been charged for electricity from the grid.\n",
            "Link: https://www.news24.com/fin24/companies/south-african-solar-power-company-pays-investors-in-crypto-20221105\n",
            "\n",
            "Agri, infra damage in Cagayan hits P39.25M - The Manila Times\n",
            "TUGUEGARAO CITY: Typhoon 'Paeng's' damage to agriculture and infrastructure has reached P39.25 million, initial disaster risk reduction management reports said on Friday.The...\n",
            "Link: https://www.manilatimes.net/2022/11/06/news/regions/agri-infra-damage-incagayan-hits-p3925m/1865174\n",
            "\n",
            "\n"
          ]
        }
      ]
    },
    {
      "cell_type": "code",
      "source": [],
      "metadata": {
        "id": "Gbn4l_51QK75"
      },
      "execution_count": null,
      "outputs": []
    }
  ]
}