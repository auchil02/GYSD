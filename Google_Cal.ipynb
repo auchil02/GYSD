{
  "nbformat": 4,
  "nbformat_minor": 0,
  "metadata": {
    "colab": {
      "provenance": [],
      "collapsed_sections": []
    },
    "kernelspec": {
      "name": "python3",
      "display_name": "Python 3"
    },
    "language_info": {
      "name": "python"
    }
  },
  "cells": [
    {
      "cell_type": "code",
      "source": [
        "import datetime\n",
        "today = datetime.date.today()\n",
        "print(today.day)"
      ],
      "metadata": {
        "colab": {
          "base_uri": "https://localhost:8080/"
        },
        "id": "LfmGPL8BnIg7",
        "outputId": "425631eb-5661-478e-8e0b-c675fabeeea4"
      },
      "execution_count": null,
      "outputs": [
        {
          "output_type": "stream",
          "name": "stdout",
          "text": [
            "6\n"
          ]
        }
      ]
    },
    {
      "cell_type": "code",
      "source": [
        "! pip install google-api-python-client"
      ],
      "metadata": {
        "id": "x8vezhtTJdO8",
        "colab": {
          "base_uri": "https://localhost:8080/"
        },
        "outputId": "bd55a249-1c63-49ba-b7af-26509cea6a57"
      },
      "execution_count": null,
      "outputs": [
        {
          "output_type": "stream",
          "name": "stdout",
          "text": [
            "Looking in indexes: https://pypi.org/simple, https://us-python.pkg.dev/colab-wheels/public/simple/\n",
            "Requirement already satisfied: google-api-python-client in /usr/local/lib/python3.7/dist-packages (1.12.11)\n",
            "Requirement already satisfied: google-auth-httplib2>=0.0.3 in /usr/local/lib/python3.7/dist-packages (from google-api-python-client) (0.0.4)\n",
            "Requirement already satisfied: google-api-core<3dev,>=1.21.0 in /usr/local/lib/python3.7/dist-packages (from google-api-python-client) (1.31.6)\n",
            "Requirement already satisfied: httplib2<1dev,>=0.15.0 in /usr/local/lib/python3.7/dist-packages (from google-api-python-client) (0.17.4)\n",
            "Requirement already satisfied: six<2dev,>=1.13.0 in /usr/local/lib/python3.7/dist-packages (from google-api-python-client) (1.15.0)\n",
            "Requirement already satisfied: google-auth<3dev,>=1.16.0 in /usr/local/lib/python3.7/dist-packages (from google-api-python-client) (1.35.0)\n",
            "Requirement already satisfied: uritemplate<4dev,>=3.0.0 in /usr/local/lib/python3.7/dist-packages (from google-api-python-client) (3.0.1)\n",
            "Requirement already satisfied: setuptools>=40.3.0 in /usr/local/lib/python3.7/dist-packages (from google-api-core<3dev,>=1.21.0->google-api-python-client) (57.4.0)\n",
            "Requirement already satisfied: pytz in /usr/local/lib/python3.7/dist-packages (from google-api-core<3dev,>=1.21.0->google-api-python-client) (2022.5)\n",
            "Requirement already satisfied: protobuf<4.0.0dev,>=3.12.0 in /usr/local/lib/python3.7/dist-packages (from google-api-core<3dev,>=1.21.0->google-api-python-client) (3.17.3)\n",
            "Requirement already satisfied: requests<3.0.0dev,>=2.18.0 in /usr/local/lib/python3.7/dist-packages (from google-api-core<3dev,>=1.21.0->google-api-python-client) (2.23.0)\n",
            "Requirement already satisfied: googleapis-common-protos<2.0dev,>=1.6.0 in /usr/local/lib/python3.7/dist-packages (from google-api-core<3dev,>=1.21.0->google-api-python-client) (1.56.4)\n",
            "Requirement already satisfied: packaging>=14.3 in /usr/local/lib/python3.7/dist-packages (from google-api-core<3dev,>=1.21.0->google-api-python-client) (21.3)\n",
            "Requirement already satisfied: pyasn1-modules>=0.2.1 in /usr/local/lib/python3.7/dist-packages (from google-auth<3dev,>=1.16.0->google-api-python-client) (0.2.8)\n",
            "Requirement already satisfied: rsa<5,>=3.1.4 in /usr/local/lib/python3.7/dist-packages (from google-auth<3dev,>=1.16.0->google-api-python-client) (4.9)\n",
            "Requirement already satisfied: cachetools<5.0,>=2.0.0 in /usr/local/lib/python3.7/dist-packages (from google-auth<3dev,>=1.16.0->google-api-python-client) (4.2.4)\n",
            "Requirement already satisfied: pyparsing!=3.0.5,>=2.0.2 in /usr/local/lib/python3.7/dist-packages (from packaging>=14.3->google-api-core<3dev,>=1.21.0->google-api-python-client) (3.0.9)\n",
            "Requirement already satisfied: pyasn1<0.5.0,>=0.4.6 in /usr/local/lib/python3.7/dist-packages (from pyasn1-modules>=0.2.1->google-auth<3dev,>=1.16.0->google-api-python-client) (0.4.8)\n",
            "Requirement already satisfied: certifi>=2017.4.17 in /usr/local/lib/python3.7/dist-packages (from requests<3.0.0dev,>=2.18.0->google-api-core<3dev,>=1.21.0->google-api-python-client) (2022.9.24)\n",
            "Requirement already satisfied: chardet<4,>=3.0.2 in /usr/local/lib/python3.7/dist-packages (from requests<3.0.0dev,>=2.18.0->google-api-core<3dev,>=1.21.0->google-api-python-client) (3.0.4)\n",
            "Requirement already satisfied: idna<3,>=2.5 in /usr/local/lib/python3.7/dist-packages (from requests<3.0.0dev,>=2.18.0->google-api-core<3dev,>=1.21.0->google-api-python-client) (2.10)\n",
            "Requirement already satisfied: urllib3!=1.25.0,!=1.25.1,<1.26,>=1.21.1 in /usr/local/lib/python3.7/dist-packages (from requests<3.0.0dev,>=2.18.0->google-api-core<3dev,>=1.21.0->google-api-python-client) (1.24.3)\n"
          ]
        }
      ]
    },
    {
      "cell_type": "code",
      "source": [
        "from googleapiclient.discovery import build\n",
        "from google_auth_oauthlib.flow import InstalledAppFlow"
      ],
      "metadata": {
        "id": "5sc61xflXUff"
      },
      "execution_count": null,
      "outputs": []
    },
    {
      "cell_type": "code",
      "source": [
        "scopes = ['https://www.googleapis.com/auth/calendar']"
      ],
      "metadata": {
        "id": "87CGvQHHZmUJ"
      },
      "execution_count": null,
      "outputs": []
    },
    {
      "cell_type": "code",
      "source": [
        "CLIENT_SECRETS_FILE = \"client_secret.json\"\n",
        "flow = InstalledAppFlow.from_client_secrets_file(CLIENT_SECRETS_FILE, scopes=scopes)\n",
        "credentials = flow.run_console()"
      ],
      "metadata": {
        "colab": {
          "base_uri": "https://localhost:8080/",
          "height": 317
        },
        "id": "NimUO9h0gaBR",
        "outputId": "7429dd14-5f6d-4382-803b-b594f30a6288"
      },
      "execution_count": null,
      "outputs": [
        {
          "output_type": "error",
          "ename": "FileNotFoundError",
          "evalue": "ignored",
          "traceback": [
            "\u001b[0;31m---------------------------------------------------------------------------\u001b[0m",
            "\u001b[0;31mFileNotFoundError\u001b[0m                         Traceback (most recent call last)",
            "\u001b[0;32m<ipython-input-10-eaa868f3726c>\u001b[0m in \u001b[0;36m<module>\u001b[0;34m\u001b[0m\n\u001b[1;32m      1\u001b[0m \u001b[0mCLIENT_SECRETS_FILE\u001b[0m \u001b[0;34m=\u001b[0m \u001b[0;34m\"client_secret.json\"\u001b[0m\u001b[0;34m\u001b[0m\u001b[0;34m\u001b[0m\u001b[0m\n\u001b[0;32m----> 2\u001b[0;31m \u001b[0mflow\u001b[0m \u001b[0;34m=\u001b[0m \u001b[0mInstalledAppFlow\u001b[0m\u001b[0;34m.\u001b[0m\u001b[0mfrom_client_secrets_file\u001b[0m\u001b[0;34m(\u001b[0m\u001b[0mCLIENT_SECRETS_FILE\u001b[0m\u001b[0;34m,\u001b[0m \u001b[0mscopes\u001b[0m\u001b[0;34m=\u001b[0m\u001b[0mscopes\u001b[0m\u001b[0;34m)\u001b[0m\u001b[0;34m\u001b[0m\u001b[0;34m\u001b[0m\u001b[0m\n\u001b[0m\u001b[1;32m      3\u001b[0m \u001b[0mcredentials\u001b[0m \u001b[0;34m=\u001b[0m \u001b[0mflow\u001b[0m\u001b[0;34m.\u001b[0m\u001b[0mrun_console\u001b[0m\u001b[0;34m(\u001b[0m\u001b[0;34m)\u001b[0m\u001b[0;34m\u001b[0m\u001b[0;34m\u001b[0m\u001b[0m\n",
            "\u001b[0;32m/usr/local/lib/python3.7/dist-packages/google_auth_oauthlib/flow.py\u001b[0m in \u001b[0;36mfrom_client_secrets_file\u001b[0;34m(cls, client_secrets_file, scopes, **kwargs)\u001b[0m\n\u001b[1;32m    199\u001b[0m             \u001b[0mFlow\u001b[0m\u001b[0;34m:\u001b[0m \u001b[0mThe\u001b[0m \u001b[0mconstructed\u001b[0m \u001b[0mFlow\u001b[0m \u001b[0minstance\u001b[0m\u001b[0;34m.\u001b[0m\u001b[0;34m\u001b[0m\u001b[0;34m\u001b[0m\u001b[0m\n\u001b[1;32m    200\u001b[0m         \"\"\"\n\u001b[0;32m--> 201\u001b[0;31m         \u001b[0;32mwith\u001b[0m \u001b[0mopen\u001b[0m\u001b[0;34m(\u001b[0m\u001b[0mclient_secrets_file\u001b[0m\u001b[0;34m,\u001b[0m \u001b[0;34m\"r\"\u001b[0m\u001b[0;34m)\u001b[0m \u001b[0;32mas\u001b[0m \u001b[0mjson_file\u001b[0m\u001b[0;34m:\u001b[0m\u001b[0;34m\u001b[0m\u001b[0;34m\u001b[0m\u001b[0m\n\u001b[0m\u001b[1;32m    202\u001b[0m             \u001b[0mclient_config\u001b[0m \u001b[0;34m=\u001b[0m \u001b[0mjson\u001b[0m\u001b[0;34m.\u001b[0m\u001b[0mload\u001b[0m\u001b[0;34m(\u001b[0m\u001b[0mjson_file\u001b[0m\u001b[0;34m)\u001b[0m\u001b[0;34m\u001b[0m\u001b[0;34m\u001b[0m\u001b[0m\n\u001b[1;32m    203\u001b[0m \u001b[0;34m\u001b[0m\u001b[0m\n",
            "\u001b[0;31mFileNotFoundError\u001b[0m: [Errno 2] No such file or directory: 'client_secret.json'"
          ]
        }
      ]
    },
    {
      "cell_type": "code",
      "source": [
        "print(credentials)"
      ],
      "metadata": {
        "colab": {
          "base_uri": "https://localhost:8080/"
        },
        "id": "69ymXQdY_67J",
        "outputId": "bfbf0f6f-f013-4fde-8cce-61854f61f6f3"
      },
      "execution_count": null,
      "outputs": [
        {
          "output_type": "stream",
          "name": "stdout",
          "text": [
            "<google.oauth2.credentials.Credentials object at 0x7fc3cf4a4450>\n"
          ]
        }
      ]
    },
    {
      "cell_type": "code",
      "source": [
        "import pickle"
      ],
      "metadata": {
        "id": "i8Md0DyHkWQ9"
      },
      "execution_count": null,
      "outputs": []
    },
    {
      "cell_type": "code",
      "source": [
        "pickle.dump(credentials, open(\"token.pkl\",\"wb\"))"
      ],
      "metadata": {
        "id": "0Ky76e4OlOB5",
        "colab": {
          "base_uri": "https://localhost:8080/",
          "height": 164
        },
        "outputId": "c4aa580e-7712-41a4-f336-0a25f5bdfa32"
      },
      "execution_count": null,
      "outputs": [
        {
          "output_type": "error",
          "ename": "NameError",
          "evalue": "ignored",
          "traceback": [
            "\u001b[0;31m---------------------------------------------------------------------------\u001b[0m",
            "\u001b[0;31mNameError\u001b[0m                                 Traceback (most recent call last)",
            "\u001b[0;32m<ipython-input-13-38a018cc043b>\u001b[0m in \u001b[0;36m<module>\u001b[0;34m\u001b[0m\n\u001b[0;32m----> 1\u001b[0;31m \u001b[0mpickle\u001b[0m\u001b[0;34m.\u001b[0m\u001b[0mdump\u001b[0m\u001b[0;34m(\u001b[0m\u001b[0mcredentials\u001b[0m\u001b[0;34m,\u001b[0m \u001b[0mopen\u001b[0m\u001b[0;34m(\u001b[0m\u001b[0;34m\"token.pkl\"\u001b[0m\u001b[0;34m,\u001b[0m\u001b[0;34m\"wb\"\u001b[0m\u001b[0;34m)\u001b[0m\u001b[0;34m)\u001b[0m\u001b[0;34m\u001b[0m\u001b[0;34m\u001b[0m\u001b[0m\n\u001b[0m",
            "\u001b[0;31mNameError\u001b[0m: name 'credentials' is not defined"
          ]
        }
      ]
    },
    {
      "cell_type": "code",
      "source": [
        "from google.colab import drive\n",
        "drive.mount('/content/drive')"
      ],
      "metadata": {
        "id": "Q-wb123MDU6q"
      },
      "execution_count": null,
      "outputs": []
    },
    {
      "cell_type": "code",
      "source": [
        "credentials = pickle.load(open(\"token.pkl\",\"rb\"))"
      ],
      "metadata": {
        "id": "W5192zxFlmlV"
      },
      "execution_count": null,
      "outputs": []
    },
    {
      "cell_type": "code",
      "source": [
        "service = build(\"calendar\",\"v3\", credentials=credentials)"
      ],
      "metadata": {
        "id": "leHg9YTxlwzy"
      },
      "execution_count": null,
      "outputs": []
    },
    {
      "cell_type": "markdown",
      "source": [
        "Get My Calendars"
      ],
      "metadata": {
        "id": "DjrV-uTZmGhd"
      }
    },
    {
      "cell_type": "code",
      "source": [
        "result = service.calendarList().list().execute()"
      ],
      "metadata": {
        "id": "wZ5ralp_mFDK"
      },
      "execution_count": null,
      "outputs": []
    },
    {
      "cell_type": "code",
      "source": [
        "calendar_id = result['items'][0]['id']"
      ],
      "metadata": {
        "id": "vdAPEug6oD40"
      },
      "execution_count": null,
      "outputs": []
    },
    {
      "cell_type": "markdown",
      "source": [
        "Get My Calendar Events\n"
      ],
      "metadata": {
        "id": "wF2Iw7xboaZe"
      }
    },
    {
      "cell_type": "code",
      "source": [
        "result = service.events().list(calendarId=calendar_id).execute()"
      ],
      "metadata": {
        "id": "LfIWv-7ZpSMP"
      },
      "execution_count": null,
      "outputs": []
    },
    {
      "cell_type": "code",
      "source": [
        "event = result['items'][0]"
      ],
      "metadata": {
        "id": "GzYWeQJqpe9c"
      },
      "execution_count": 17,
      "outputs": []
    },
    {
      "cell_type": "markdown",
      "source": [
        "**Formatting the Event Date**"
      ],
      "metadata": {
        "id": "vFRt5_KDnjwv"
      }
    },
    {
      "cell_type": "code",
      "source": [
        "import datetime\n",
        "\n",
        "eventDate = event['start']['dateTime'][5:10]\n",
        "tdelta1 = datetime.timedelta(days=2) \n",
        "tdelta2 = datetime.timedelta(days=10)\n",
        "\n",
        "eventStart = event['start']['dateTime'][11:16]\n",
        "start_hour = int(event['start']['dateTime'][11:13])\n",
        "start_minutes = event['start']['dateTime'][14:16]\n",
        "if start_hour > 12:\n",
        "    start_hour = start_hour - 12\n",
        "\n",
        "eventStart = f'{start_hour}:{start_minutes}'\n",
        "#print(eventStart)\n",
        "\n",
        "\n",
        "eventEnd = event['end']['dateTime'][11:16]\n",
        "end_hour = int(event['end']['dateTime'][11:13])\n",
        "end_minutes = event['end']['dateTime'][14:16]\n",
        "if end_hour > 12:\n",
        "  end_hour = end_hour - 12\n",
        "  \n",
        "eventEnd = f'{end_hour}:{end_minutes}'\n",
        "summary = event['summary']\n",
        "print(f'\\t{summary}, {eventStart} to {eventEnd}')\n",
        "summary =event['summary']\n",
        "datetime = event['start']['dateTime'][5:10]\n",
        "print(f'\\t{summary}, {datetime} -> Last Stretch!')\n",
        "#print(eventEnd)\n"
      ],
      "metadata": {
        "colab": {
          "base_uri": "https://localhost:8080/"
        },
        "id": "gPm2YYLEnmyh",
        "outputId": "bc2620c8-2f50-4b79-f002-61682bbfd80a"
      },
      "execution_count": null,
      "outputs": [
        {
          "output_type": "stream",
          "name": "stdout",
          "text": [
            "\tMidterm, 2:00 to 3:00\n",
            "\tMidterm, 11-02 -> Last Stretch!\n"
          ]
        }
      ]
    },
    {
      "cell_type": "markdown",
      "source": [
        "Get my calendars"
      ],
      "metadata": {
        "id": "1GL_i7atsXrp"
      }
    },
    {
      "cell_type": "code",
      "source": [
        "page_token = None\n",
        "while True:\n",
        "  events = service.events().list(calendarId=calendar_id, pageToken=page_token).execute()\n",
        "  print(\"Your Daily at a Glance:\")\n",
        "  for event in events['items']:\n",
        "    eventStart = event['start']['dateTime'][11:16]\n",
        "    start_hour = int(event['start']['dateTime'][11:13])\n",
        "    start_minutes = event['start']['dateTime'][14:16]\n",
        "    if start_hour > 12:\n",
        "        start_hour = start_hour - 12\n",
        "\n",
        "    eventStart = f'{start_hour}:{start_minutes}'\n",
        "    #print(eventStart)\n",
        "\n",
        "\n",
        "    eventEnd = event['end']['dateTime'][11:16]\n",
        "    end_hour = int(event['end']['dateTime'][11:13])\n",
        "    end_minutes = event['end']['dateTime'][14:16]\n",
        "    if end_hour > 12:\n",
        "      end_hour = end_hour - 12\n",
        "  \n",
        "    eventEnd = f'{end_hour}:{end_minutes}'\n",
        "    #print(eventEnd)\n",
        "    # events today\n",
        "    # replace 6 with today var\n",
        "    if int(event['start']['dateTime'][8:10]) == today.day:\n",
        "        summary = event['summary']\n",
        "        print(f'   {summary}, {eventStart} to {eventEnd}')\n",
        "  print(\"Upcoming tests:\")\n",
        "  for event in events['items']:\n",
        "    # tests within next two days\n",
        "    # replace 6 with today var\n",
        "    # replace 8 with today var + 2\n",
        "    if ((\"test\" in (event['summary']).lower()) &\n",
        "        (int(event['start']['dateTime'][8:10]) > today.day) &\n",
        "        (int(event['start']['dateTime'][8:10]) <= (today+tdelta1).day)):\n",
        "        summary =event['summary']\n",
        "        date = event['start']['dateTime'][5:10]\n",
        "        print(f'   {summary}, {date} -> Last Stretch!')\n",
        "    # tests within next third day to tenth day from today\n",
        "    # replace 8 with today var + 2\n",
        "    # replace 16 with today var + 10\n",
        "    # don't worry about num > 31 edge case because calendar will never ouput it\n",
        "    elif ((\"test\" in (event['summary']).lower()) &\n",
        "        (int(event['start']['dateTime'][8:10]) > (today+tdelta1).day) &\n",
        "         (int(event['start']['dateTime'][8:10]) <= (today+tdelta2).day)):\n",
        "        summary =event['summary']\n",
        "        date = event['start']['dateTime'][5:10]\n",
        "        print(f'   {summary}, {date} -> Start Studying!')\n",
        "  page_token = events.get('nextPageToken')\n",
        "  if not page_token:\n",
        "    break"
      ],
      "metadata": {
        "colab": {
          "base_uri": "https://localhost:8080/"
        },
        "id": "Q9kVChOGsaPu",
        "outputId": "c443c78c-a6b8-4f7f-cfc0-e4391bca5670"
      },
      "execution_count": 18,
      "outputs": [
        {
          "output_type": "stream",
          "name": "stdout",
          "text": [
            "Your Daily at a Glance:\n",
            "   Random6, 9:00 to 10:00\n",
            "   Lunch with Mom, 1:00 to 2:00\n",
            "Upcoming tests:\n",
            "   Test8, 11-08 -> Last Stretch!\n",
            "   Test11, 11-11 -> Start Studying!\n"
          ]
        }
      ]
    },
    {
      "cell_type": "code",
      "source": [],
      "metadata": {
        "id": "YEN2cm6c6mJX"
      },
      "execution_count": null,
      "outputs": []
    }
  ]
}