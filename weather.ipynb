{
  "nbformat": 4,
  "nbformat_minor": 0,
  "metadata": {
    "colab": {
      "provenance": [],
      "collapsed_sections": []
    },
    "kernelspec": {
      "name": "python3",
      "display_name": "Python 3"
    },
    "language_info": {
      "name": "python"
    }
  },
  "cells": [
    {
      "cell_type": "code",
      "source": [
        "!pip install pywapi"
      ],
      "metadata": {
        "colab": {
          "base_uri": "https://localhost:8080/"
        },
        "id": "qqdoSRjwuCOc",
        "outputId": "511085ef-ebbd-4fe1-e632-6d14fc01c81d"
      },
      "execution_count": 42,
      "outputs": [
        {
          "output_type": "stream",
          "name": "stdout",
          "text": [
            "Looking in indexes: https://pypi.org/simple, https://us-python.pkg.dev/colab-wheels/public/simple/\n",
            "\u001b[31mERROR: Could not find a version that satisfies the requirement pywapi (from versions: none)\u001b[0m\n",
            "\u001b[31mERROR: No matching distribution found for pywapi\u001b[0m\n"
          ]
        }
      ]
    },
    {
      "cell_type": "code",
      "source": [
        "import requests, json \n",
        "# Enter your API key here\n",
        "api_key = \"bb995c71ea024b7284965801220611\"\n",
        " \n",
        "# base_url variable to store url\n",
        "base_url = 'http://api.weatherapi.com/v1/forecast.json?key='\n",
        " \n",
        "# Give city name\n",
        "city_name = \"Chapel Hill\"\n",
        " \n",
        "# complete_url variable to store\n",
        "# complete url address\n",
        "complete_url = base_url + api_key + \"&q=\" + city_name + \"&aqi=no\"\n",
        " \n",
        "# get method of requests module\n",
        "# return response object\n",
        "response = requests.get(complete_url)\n",
        " \n",
        "# json method of response object\n",
        "# convert json format data into\n",
        "# python format data\n",
        "x = response.json()"
      ],
      "metadata": {
        "id": "3rn5EEXsuDzS"
      },
      "execution_count": 55,
      "outputs": []
    },
    {
      "cell_type": "code",
      "source": [
        "current_temp = x['current']['temp_f']\n",
        "condition = x['current']['condition']['text'].lower()\n",
        "day = x['forecast']['forecastday'][0]['day']\n",
        "low = day['mintemp_f']\n",
        "high = day['maxtemp_f']"
      ],
      "metadata": {
        "id": "xYGTJyG3wjCD"
      },
      "execution_count": 73,
      "outputs": []
    },
    {
      "cell_type": "code",
      "source": [
        "text = f\"Today's weather is {condition} with a current temperature of {current_temp} degrees. There is a low of {low} and a high of {high} degrees.\""
      ],
      "metadata": {
        "id": "b4oE0NPQxQyC"
      },
      "execution_count": 75,
      "outputs": []
    },
    {
      "cell_type": "code",
      "source": [
        "text"
      ],
      "metadata": {
        "colab": {
          "base_uri": "https://localhost:8080/",
          "height": 35
        },
        "id": "P4yg38Q0zKfV",
        "outputId": "145c01e2-82f0-4163-a381-e5907807b8e4"
      },
      "execution_count": 76,
      "outputs": [
        {
          "output_type": "execute_result",
          "data": {
            "text/plain": [
              "\"Today's weather is partly cloudy with a current temperature of 70.0 degrees. There is a low of 65.5 and a high of 81.0 degrees.\""
            ],
            "application/vnd.google.colaboratory.intrinsic+json": {
              "type": "string"
            }
          },
          "metadata": {},
          "execution_count": 76
        }
      ]
    },
    {
      "cell_type": "code",
      "source": [],
      "metadata": {
        "id": "h-bqlzuAzK_M"
      },
      "execution_count": null,
      "outputs": []
    }
  ]
}